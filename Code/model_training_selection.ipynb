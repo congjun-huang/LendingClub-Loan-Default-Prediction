{
 "cells": [
  {
   "cell_type": "markdown",
   "id": "91441180",
   "metadata": {},
   "source": [
    "# LendingClub Loan Prediction - Model Selection\n",
    "## Author: Congjun Huang"
   ]
  },
  {
   "cell_type": "code",
   "execution_count": 1,
   "id": "0784d609",
   "metadata": {},
   "outputs": [],
   "source": [
    "import pandas as pd\n",
    "import numpy as np\n",
    "import matplotlib.pyplot as plt\n",
    "import seaborn as sns\n",
    "sns.set()\n",
    "import pickle\n",
    "\n",
    "from sklearn.linear_model import LogisticRegression\n",
    "from sklearn.neural_network import MLPClassifier\n",
    "from sklearn.ensemble import RandomForestClassifier\n",
    "from sklearn.tree import DecisionTreeClassifier\n",
    "from sklearn.ensemble import AdaBoostClassifier\n",
    "from sklearn.ensemble import GradientBoostingClassifier\n",
    "from xgboost import XGBClassifier\n",
    "\n",
    "from sklearn.model_selection import RandomizedSearchCV, StratifiedKFold\n",
    "from scipy.stats import loguniform as sp_loguniform\n",
    "from scipy.stats import randint as sp_randint\n",
    "\n",
    "import warnings\n",
    "warnings.filterwarnings('ignore')"
   ]
  },
  {
   "cell_type": "code",
   "execution_count": 2,
   "id": "a65484a2",
   "metadata": {},
   "outputs": [],
   "source": [
    "# get training and test data\n",
    "X_train = pd.read_csv('X_train.csv')\n",
    "X_train.index = X_train['Unnamed: 0']\n",
    "X_train = X_train.drop(['Unnamed: 0'], axis=1)\n",
    "X_train.index.name = ''\n",
    "\n",
    "y_train = pd.read_csv('y_train.csv')\n",
    "y_train.index = y_train['Unnamed: 0']\n",
    "y_train = y_train.drop(['Unnamed: 0'], axis=1)\n",
    "y_train.index.name = ''\n",
    "\n",
    "X_test = pd.read_csv('X_test.csv')\n",
    "X_test.index = X_test['Unnamed: 0']\n",
    "X_test = X_test.drop(['Unnamed: 0'], axis=1)\n",
    "X_test.index.name = ''\n",
    "\n",
    "y_test = pd.read_csv('y_test.csv')\n",
    "y_test.index = y_test['Unnamed: 0']\n",
    "y_test = y_test.drop(['Unnamed: 0'], axis=1)\n",
    "y_test.index.name = ''"
   ]
  },
  {
   "cell_type": "code",
   "execution_count": 3,
   "id": "e43e4875",
   "metadata": {},
   "outputs": [],
   "source": [
    "# logistic regression random search\n",
    "params_lr = {'penalty': ['l1','l2'],\n",
    "             'C': sp_loguniform(1e-4,1e2),\n",
    "             'fit_intercept': [True, False]}\n",
    "\n",
    "lr_cv = RandomizedSearchCV(\n",
    "        LogisticRegression(),\n",
    "        params_lr,\n",
    "        n_iter=10,\n",
    "        cv=StratifiedKFold(5, shuffle=True, random_state=123),\n",
    "        scoring='roc_auc',\n",
    "        n_jobs=-1,\n",
    "        random_state=123).fit(\n",
    "        X_train, y_train)"
   ]
  },
  {
   "cell_type": "code",
   "execution_count": 4,
   "id": "e4d80f7d",
   "metadata": {},
   "outputs": [
    {
     "name": "stdout",
     "output_type": "stream",
     "text": [
      "LogisticRegression(C=76.66289057556017)\n",
      "{'C': 76.66289057556017, 'fit_intercept': True, 'penalty': 'l2'}\n",
      "0.7093442712266047\n"
     ]
    }
   ],
   "source": [
    "# record best estimator，parameters and best score\n",
    "print(lr_cv.best_estimator_)\n",
    "print(lr_cv.best_params_)\n",
    "print(lr_cv.best_score_)"
   ]
  },
  {
   "cell_type": "code",
   "execution_count": 5,
   "id": "29e8c8f1",
   "metadata": {},
   "outputs": [],
   "source": [
    "# neural network random search\n",
    "hl = []\n",
    "for i in [1,2,3,4,5,10,15,25,30]:\n",
    "    hl.append(i)\n",
    "    hl.append((i,i))\n",
    "    \n",
    "params_mlp = {'hidden_layer_sizes': hl,\n",
    "              'alpha': sp_loguniform(1e-4,1e2),\n",
    "              'batch_size': [1,3,5,10,20,50,100,250,500],\n",
    "              'learning_rate_init': sp_loguniform(1e-4,1e2)}\n",
    "\n",
    "mlp_cv = RandomizedSearchCV(\n",
    "         MLPClassifier(),\n",
    "         params_mlp,\n",
    "         n_iter=10,\n",
    "         cv=StratifiedKFold(5, shuffle=True, random_state=123),\n",
    "         scoring='roc_auc',\n",
    "         n_jobs=-1,\n",
    "         random_state=123).fit(\n",
    "         X_train, y_train)"
   ]
  },
  {
   "cell_type": "code",
   "execution_count": 6,
   "id": "359c5557",
   "metadata": {},
   "outputs": [
    {
     "name": "stdout",
     "output_type": "stream",
     "text": [
      "MLPClassifier(alpha=0.0011051954732269518, batch_size=100,\n",
      "              hidden_layer_sizes=(15, 15),\n",
      "              learning_rate_init=0.0002900807334178909)\n",
      "{'alpha': 0.0011051954732269518, 'batch_size': 100, 'hidden_layer_sizes': (15, 15), 'learning_rate_init': 0.0002900807334178909}\n",
      "0.7269344667965878\n"
     ]
    }
   ],
   "source": [
    "# record best estimator，parameters and best score\n",
    "print(mlp_cv.best_estimator_)\n",
    "print(mlp_cv.best_params_)\n",
    "print(mlp_cv.best_score_)"
   ]
  },
  {
   "cell_type": "code",
   "execution_count": 7,
   "id": "f8a579b2",
   "metadata": {},
   "outputs": [],
   "source": [
    "# random forest random search   \n",
    "params_rf = {'n_estimators': [100,120,200,300,500,800,1200],\n",
    "             'max_depth': [None,5,8,15,25,30],\n",
    "             'min_samples_split': [1,2,5,10,15,100],\n",
    "             'min_samples_leaf': [1,2,5,10],\n",
    "             'max_features': ['sqrt','log2',None]}\n",
    "\n",
    "rf_cv = RandomizedSearchCV(\n",
    "        RandomForestClassifier(),\n",
    "        params_rf,\n",
    "        n_iter=10,\n",
    "        cv=StratifiedKFold(5, shuffle=True, random_state=123),\n",
    "        scoring='roc_auc',\n",
    "        n_jobs=-1,\n",
    "        random_state=123).fit(\n",
    "        X_train, y_train)"
   ]
  },
  {
   "cell_type": "code",
   "execution_count": 8,
   "id": "f13db32a",
   "metadata": {},
   "outputs": [
    {
     "name": "stdout",
     "output_type": "stream",
     "text": [
      "RandomForestClassifier(max_features='sqrt', min_samples_leaf=5,\n",
      "                       n_estimators=800)\n",
      "{'n_estimators': 800, 'min_samples_split': 2, 'min_samples_leaf': 5, 'max_features': 'sqrt', 'max_depth': None}\n",
      "0.7270418663460392\n"
     ]
    }
   ],
   "source": [
    "# record best estimator，parameters and best score\n",
    "print(rf_cv.best_estimator_)\n",
    "print(rf_cv.best_params_)\n",
    "print(rf_cv.best_score_)"
   ]
  },
  {
   "cell_type": "code",
   "execution_count": 9,
   "id": "c09a776b",
   "metadata": {},
   "outputs": [],
   "source": [
    "# adaboost random search\n",
    "params_ada = {'n_estimators': [100,120,200,300,500,800,1200],\n",
    "              'learning_rate': sp_loguniform(1e-4,1e2)}\n",
    "\n",
    "ada_cv = RandomizedSearchCV(\n",
    "         AdaBoostClassifier(base_estimator=DecisionTreeClassifier(max_depth=5), random_state=123),\n",
    "         params_ada,\n",
    "         n_iter=10,\n",
    "         cv=StratifiedKFold(5, shuffle=True, random_state=123),\n",
    "         scoring='roc_auc',\n",
    "         n_jobs=-1,\n",
    "         random_state=123).fit(\n",
    "         X_train, y_train)"
   ]
  },
  {
   "cell_type": "code",
   "execution_count": 10,
   "id": "857511d5",
   "metadata": {},
   "outputs": [
    {
     "name": "stdout",
     "output_type": "stream",
     "text": [
      "AdaBoostClassifier(base_estimator=DecisionTreeClassifier(max_depth=5),\n",
      "                   learning_rate=0.03722421578735048, n_estimators=200,\n",
      "                   random_state=123)\n",
      "{'learning_rate': 0.03722421578735048, 'n_estimators': 200}\n",
      "0.7272116849944383\n"
     ]
    }
   ],
   "source": [
    "# record best estimator，parameters and best score\n",
    "print(ada_cv.best_estimator_)\n",
    "print(ada_cv.best_params_)\n",
    "print(ada_cv.best_score_)"
   ]
  },
  {
   "cell_type": "code",
   "execution_count": 11,
   "id": "3b9471c9",
   "metadata": {},
   "outputs": [],
   "source": [
    "# gradientboost random search\n",
    "params_gb = {'n_estimators': [100,120,200,300,500,800,1200],\n",
    "             'learning_rate': sp_loguniform(1e-4,1e2),\n",
    "             'max_depth': [None,5,8,15,25,30]}\n",
    "\n",
    "gb_cv = RandomizedSearchCV(\n",
    "        GradientBoostingClassifier(),\n",
    "        params_gb,\n",
    "        n_iter=10,\n",
    "        cv=StratifiedKFold(5, shuffle=True, random_state=123),\n",
    "        scoring='roc_auc',\n",
    "        n_jobs=-1,\n",
    "        random_state=123).fit(\n",
    "        X_train, y_train)"
   ]
  },
  {
   "cell_type": "code",
   "execution_count": 12,
   "id": "ddb72554",
   "metadata": {},
   "outputs": [
    {
     "name": "stdout",
     "output_type": "stream",
     "text": [
      "GradientBoostingClassifier(learning_rate=0.029210987323232726, max_depth=5,\n",
      "                           n_estimators=1200)\n",
      "{'learning_rate': 0.029210987323232726, 'max_depth': 5, 'n_estimators': 1200}\n",
      "0.7310230778059281\n"
     ]
    }
   ],
   "source": [
    "# record best estimator，parameters and best score\n",
    "print(gb_cv.best_estimator_)\n",
    "print(gb_cv.best_params_)\n",
    "print(gb_cv.best_score_)"
   ]
  },
  {
   "cell_type": "code",
   "execution_count": 13,
   "id": "37f88ec1",
   "metadata": {},
   "outputs": [
    {
     "name": "stdout",
     "output_type": "stream",
     "text": [
      "[22:56:15] WARNING: C:/Users/Administrator/workspace/xgboost-win64_release_1.5.1/src/learner.cc:1115: Starting in XGBoost 1.3.0, the default evaluation metric used with the objective 'binary:logistic' was changed from 'error' to 'logloss'. Explicitly set eval_metric if you'd like to restore the old behavior.\n"
     ]
    }
   ],
   "source": [
    "# xgboost random search\n",
    "params_xgb = {'n_estimators': [100,200,300,500,800,1000],\n",
    "              'learning_rate': sp_loguniform(1e-4,1e-1),\n",
    "              'max_depth': [3,5,7,9,12,15,25],\n",
    "              'min_child_weight': [1,3,5,7]}\n",
    "\n",
    "xgb_cv = RandomizedSearchCV(\n",
    "         XGBClassifier(),\n",
    "         params_xgb,\n",
    "         n_iter=10,\n",
    "         cv=StratifiedKFold(5, shuffle=True, random_state=123),\n",
    "         scoring='roc_auc',\n",
    "         n_jobs=-1,\n",
    "         random_state=123).fit(\n",
    "         X_train, y_train)"
   ]
  },
  {
   "cell_type": "code",
   "execution_count": 14,
   "id": "6c9f897d",
   "metadata": {},
   "outputs": [
    {
     "name": "stdout",
     "output_type": "stream",
     "text": [
      "XGBClassifier(base_score=0.5, booster='gbtree', colsample_bylevel=1,\n",
      "              colsample_bynode=1, colsample_bytree=1, enable_categorical=False,\n",
      "              gamma=0, gpu_id=-1, importance_type=None,\n",
      "              interaction_constraints='', learning_rate=0.014700433699563096,\n",
      "              max_delta_step=0, max_depth=5, min_child_weight=3, missing=nan,\n",
      "              monotone_constraints='()', n_estimators=500, n_jobs=16,\n",
      "              num_parallel_tree=1, predictor='auto', random_state=0,\n",
      "              reg_alpha=0, reg_lambda=1, scale_pos_weight=1, subsample=1,\n",
      "              tree_method='exact', validate_parameters=1, verbosity=None)\n",
      "{'learning_rate': 0.014700433699563096, 'max_depth': 5, 'min_child_weight': 3, 'n_estimators': 500}\n",
      "0.7299263605202484\n"
     ]
    }
   ],
   "source": [
    "# record best estimator，parameters and best score\n",
    "print(xgb_cv.best_estimator_)\n",
    "print(xgb_cv.best_params_)\n",
    "print(xgb_cv.best_score_)"
   ]
  },
  {
   "cell_type": "code",
   "execution_count": 19,
   "id": "be0f927c",
   "metadata": {},
   "outputs": [
    {
     "data": {
      "text/html": [
       "<div>\n",
       "<style scoped>\n",
       "    .dataframe tbody tr th:only-of-type {\n",
       "        vertical-align: middle;\n",
       "    }\n",
       "\n",
       "    .dataframe tbody tr th {\n",
       "        vertical-align: top;\n",
       "    }\n",
       "\n",
       "    .dataframe thead th {\n",
       "        text-align: right;\n",
       "    }\n",
       "</style>\n",
       "<table border=\"1\" class=\"dataframe\">\n",
       "  <thead>\n",
       "    <tr style=\"text-align: right;\">\n",
       "      <th></th>\n",
       "      <th>Best Score (AUC)</th>\n",
       "    </tr>\n",
       "  </thead>\n",
       "  <tbody>\n",
       "    <tr>\n",
       "      <th>Logistic Regression</th>\n",
       "      <td>0.709344</td>\n",
       "    </tr>\n",
       "    <tr>\n",
       "      <th>Neural Network</th>\n",
       "      <td>0.726934</td>\n",
       "    </tr>\n",
       "    <tr>\n",
       "      <th>Random Forest</th>\n",
       "      <td>0.727042</td>\n",
       "    </tr>\n",
       "    <tr>\n",
       "      <th>AdaBoost</th>\n",
       "      <td>0.727212</td>\n",
       "    </tr>\n",
       "    <tr>\n",
       "      <th>Gradient Boosting</th>\n",
       "      <td>0.731023</td>\n",
       "    </tr>\n",
       "    <tr>\n",
       "      <th>XGBoost</th>\n",
       "      <td>0.729926</td>\n",
       "    </tr>\n",
       "  </tbody>\n",
       "</table>\n",
       "</div>"
      ],
      "text/plain": [
       "                     Best Score (AUC)\n",
       "Logistic Regression          0.709344\n",
       "Neural Network               0.726934\n",
       "Random Forest                0.727042\n",
       "AdaBoost                     0.727212\n",
       "Gradient Boosting            0.731023\n",
       "XGBoost                      0.729926"
      ]
     },
     "execution_count": 19,
     "metadata": {},
     "output_type": "execute_result"
    }
   ],
   "source": [
    "# comparision of best score (auc)\n",
    "value = [[lr_cv.best_score_],[mlp_cv.best_score_],[rf_cv.best_score_],\n",
    "       [ada_cv.best_score_],[gb_cv.best_score_],[xgb_cv.best_score_]]\n",
    "model = ['Logistic Regression','Neural Network','Random Forest',\n",
    "         'AdaBoost','Gradient Boosting','XGBoost']\n",
    "bs = pd.DataFrame(value, columns=['Best Score (AUC)'], index=model)\n",
    "bs"
   ]
  },
  {
   "cell_type": "code",
   "execution_count": 20,
   "id": "1a39cc90",
   "metadata": {},
   "outputs": [],
   "source": [
    "# select Gradient Boosting with best score (AUC) 0.731 as best model\n",
    "best_model = gb_cv.best_estimator_ "
   ]
  },
  {
   "cell_type": "code",
   "execution_count": 21,
   "id": "3809e0c5",
   "metadata": {},
   "outputs": [],
   "source": [
    "# pickle out best model\n",
    "with open('best_model.pickle', 'wb') as file:\n",
    "    pickle.dump(best_model, file)"
   ]
  },
  {
   "cell_type": "code",
   "execution_count": null,
   "id": "5c7cf759",
   "metadata": {},
   "outputs": [],
   "source": []
  }
 ],
 "metadata": {
  "kernelspec": {
   "display_name": "Python 3",
   "language": "python",
   "name": "python3"
  },
  "language_info": {
   "codemirror_mode": {
    "name": "ipython",
    "version": 3
   },
   "file_extension": ".py",
   "mimetype": "text/x-python",
   "name": "python",
   "nbconvert_exporter": "python",
   "pygments_lexer": "ipython3",
   "version": "3.8.8"
  }
 },
 "nbformat": 4,
 "nbformat_minor": 5
}
